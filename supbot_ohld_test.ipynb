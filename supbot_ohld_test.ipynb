{
 "cells": [
  {
   "cell_type": "markdown",
   "metadata": {},
   "source": [
    "https://api.telegram.org/bot1659225196:AAG1x4TPMx29kZvk5SHTKlnamsCgOoBTuL0/getUpdates"
   ]
  },
  {
   "cell_type": "code",
   "execution_count": 3,
   "metadata": {},
   "outputs": [],
   "source": [
    "token = '1659225196:AAG1x4TPMx29kZvk5SHTKlnamsCgOoBTuL0'\n",
    "\n",
    "channel = -1001102344160\n",
    "support_chat = 1659225196\n",
    "mnctty = 196676228\n",
    "july = 173074982\n",
    "\n",
    "test_msg = 'привет создатель, епта'"
   ]
  },
  {
   "cell_type": "code",
   "execution_count": 3,
   "metadata": {},
   "outputs": [],
   "source": [
    "WELCOME_MESSAGE = 'привет!'\n",
    "HELP_MESSAGE = 'теперь наш канал по адресу t.me/eternalwanderlust'\n",
    "\n",
    "TELEGRAM_SUPPORT_CHAT_ID = -1001102344160\n",
    "TELEGRAM_TOKEN = '1659225196:AAG1x4TPMx29kZvk5SHTKlnamsCgOoBTuL0'"
   ]
  },
  {
   "cell_type": "code",
   "execution_count": 4,
   "metadata": {},
   "outputs": [],
   "source": [
    "from telegram.ext import Updater\n",
    "from telegram.ext import CommandHandler, MessageHandler, Filters"
   ]
  },
  {
   "cell_type": "code",
   "execution_count": null,
   "metadata": {},
   "outputs": [],
   "source": [
    "update.m"
   ]
  },
  {
   "cell_type": "code",
   "execution_count": 5,
   "metadata": {},
   "outputs": [],
   "source": [
    "def start(update, context):\n",
    "    update.message.reply_text(WELCOME_MESSAGE)\n",
    "\n",
    "    user_info = update.message.from_user.to_dict()\n",
    "    print(user_info)\n",
    "    \n",
    "    context.bot.send_message(\n",
    "        chat_id=TELEGRAM_SUPPORT_CHAT_ID,\n",
    "        text=f\"\"\"\n",
    "📞 Connected {user_info}.\n",
    "        \"\"\",\n",
    "    )"
   ]
  },
  {
   "cell_type": "code",
   "execution_count": 6,
   "metadata": {},
   "outputs": [],
   "source": [
    "def forward_to_chat(update, context):\n",
    "    \"\"\"{ \n",
    "        'message_id': 5, \n",
    "        'date': 1605106546, \n",
    "        'chat': {'id': 49820636, 'type': 'private', 'username': 'danokhlopkov', 'first_name': 'Daniil', 'last_name': 'Okhlopkov'}, \n",
    "        'text': 'TEST QOO', 'entities': [], 'caption_entities': [], 'photo': [], 'new_chat_members': [], 'new_chat_photo': [], 'delete_chat_photo': False, 'group_chat_created': False, 'supergroup_chat_created': False, 'channel_chat_created': False, \n",
    "        'from': {'id': 49820636, 'first_name': 'Daniil', 'is_bot': False, 'last_name': 'Okhlopkov', 'username': 'danokhlopkov', 'language_code': 'en'}\n",
    "    }\"\"\"\n",
    "    update.message.forward(chat_id=TELEGRAM_SUPPORT_CHAT_ID)"
   ]
  },
  {
   "cell_type": "code",
   "execution_count": 7,
   "metadata": {},
   "outputs": [],
   "source": [
    "def forward_to_user(update, context):\n",
    "    \"\"\"{\n",
    "        'message_id': 10, 'date': 1605106662, \n",
    "        'chat': {'id': -484179205, 'type': 'group', 'title': '☎️ SUPPORT CHAT', 'all_members_are_administrators': True}, \n",
    "        'reply_to_message': {\n",
    "            'message_id': 9, 'date': 1605106659, \n",
    "            'chat': {'id': -484179205, 'type': 'group', 'title': '☎️ SUPPORT CHAT', 'all_members_are_administrators': True}, \n",
    "            'forward_from': {'id': 49820636, 'first_name': 'Daniil', 'is_bot': False, 'last_name': 'Okhlopkov', 'danokhlopkov': 'okhlopkov', 'language_code': 'en'}, \n",
    "            'forward_date': 1605106658, \n",
    "            'text': 'g', 'entities': [], 'caption_entities': [], 'photo': [], 'new_chat_members': [], 'new_chat_photo': [], \n",
    "            'delete_chat_photo': False, 'group_chat_created': False, 'supergroup_chat_created': False, 'channel_chat_created': False, \n",
    "            'from': {'id': 1440913096, 'first_name': 'SUPPORT', 'is_bot': True, 'username': 'lolkek'}\n",
    "        }, \n",
    "        'text': 'ggg', 'entities': [], 'caption_entities': [], 'photo': [], 'new_chat_members': [], 'new_chat_photo': [], 'delete_chat_photo': False, \n",
    "        'group_chat_created': False, 'supergroup_chat_created': False, 'channel_chat_created': False, \n",
    "        'from': {'id': 49820636, 'first_name': 'Daniil', 'is_bot': False, 'last_name': 'Okhlopkov', 'username': 'danokhlopkov', 'language_code': 'en'}\n",
    "    }\"\"\"\n",
    "\n",
    "\n",
    "    user_id = 196676228 #     update.message.reply_to_message.forward_from.id\n",
    "    context.bot.copy_message(\n",
    "        message_id=update.message.message_id,\n",
    "        chat_id=user_id,\n",
    "        from_chat_id=update.message.chat_id\n",
    "    )\n"
   ]
  },
  {
   "cell_type": "code",
   "execution_count": 8,
   "metadata": {},
   "outputs": [],
   "source": [
    "# def forward_to_user(update, context):\n",
    "#     user_id = update.channel_post.reply_to_message.forward_from.id\n",
    "#     context.bot.copy_message(\n",
    "#         message_id=update.channel_post.message_id,\n",
    "#         chat_id=user_id,\n",
    "#         from_chat_id=update.channel_post.chat_id\n",
    "\n",
    "#     )"
   ]
  },
  {
   "cell_type": "code",
   "execution_count": 9,
   "metadata": {},
   "outputs": [],
   "source": [
    "def setup_dispatcher(dp):\n",
    "    dp.add_handler(CommandHandler('start', start))\n",
    "    dp.add_handler(MessageHandler(Filters.chat_type.private, forward_to_chat))\n",
    "    dp.add_handler(MessageHandler(Filters.chat(TELEGRAM_SUPPORT_CHAT_ID) & Filters.reply, forward_to_user))\n",
    "    return dp"
   ]
  },
  {
   "cell_type": "code",
   "execution_count": 11,
   "metadata": {},
   "outputs": [
    {
     "name": "stdout",
     "output_type": "stream",
     "text": [
      "Can't detect 'HEROKU_APP_NAME' env. Running bot in pooling mode.\n",
      "Note: this is not a great way to deploy the bot in Heroku.\n"
     ]
    },
    {
     "ename": "NameError",
     "evalue": "name 'update' is not defined",
     "output_type": "error",
     "traceback": [
      "\u001b[0;31m---------------------------------------------------------------------------\u001b[0m",
      "\u001b[0;31mNameError\u001b[0m                                 Traceback (most recent call last)",
      "\u001b[0;32m<ipython-input-11-ed8216305b5c>\u001b[0m in \u001b[0;36m<module>\u001b[0;34m\u001b[0m\n\u001b[1;32m      6\u001b[0m \u001b[0mprint\u001b[0m\u001b[0;34m(\u001b[0m\u001b[0;34m\"Note: this is not a great way to deploy the bot in Heroku.\"\u001b[0m\u001b[0;34m)\u001b[0m\u001b[0;34m\u001b[0m\u001b[0;34m\u001b[0m\u001b[0m\n\u001b[1;32m      7\u001b[0m \u001b[0;34m\u001b[0m\u001b[0m\n\u001b[0;32m----> 8\u001b[0;31m \u001b[0md\u001b[0m \u001b[0;34m=\u001b[0m \u001b[0mstart\u001b[0m\u001b[0;34m(\u001b[0m\u001b[0mupdate\u001b[0m\u001b[0;34m,\u001b[0m \u001b[0mcontext\u001b[0m\u001b[0;34m)\u001b[0m\u001b[0;34m\u001b[0m\u001b[0;34m\u001b[0m\u001b[0m\n\u001b[0m\u001b[1;32m      9\u001b[0m \u001b[0;34m\u001b[0m\u001b[0m\n\u001b[1;32m     10\u001b[0m \u001b[0mupdater\u001b[0m\u001b[0;34m.\u001b[0m\u001b[0mstart_polling\u001b[0m\u001b[0;34m(\u001b[0m\u001b[0;34m)\u001b[0m\u001b[0;34m\u001b[0m\u001b[0;34m\u001b[0m\u001b[0m\n",
      "\u001b[0;31mNameError\u001b[0m: name 'update' is not defined"
     ]
    }
   ],
   "source": [
    "updater = Updater(TELEGRAM_TOKEN)\n",
    "\n",
    "dp = updater.dispatcher\n",
    "dp = setup_dispatcher(dp)\n",
    "print(\"Can't detect 'HEROKU_APP_NAME' env. Running bot in pooling mode.\")\n",
    "print(\"Note: this is not a great way to deploy the bot in Heroku.\")\n",
    "\n",
    "updater.start_polling()\n",
    "updater.idle()"
   ]
  },
  {
   "cell_type": "code",
   "execution_count": null,
   "metadata": {},
   "outputs": [],
   "source": []
  },
  {
   "cell_type": "code",
   "execution_count": null,
   "metadata": {},
   "outputs": [],
   "source": []
  },
  {
   "cell_type": "code",
   "execution_count": null,
   "metadata": {},
   "outputs": [],
   "source": []
  }
 ],
 "metadata": {
  "kernelspec": {
   "display_name": "Python 3",
   "language": "python",
   "name": "python3"
  },
  "language_info": {
   "codemirror_mode": {
    "name": "ipython",
    "version": 3
   },
   "file_extension": ".py",
   "mimetype": "text/x-python",
   "name": "python",
   "nbconvert_exporter": "python",
   "pygments_lexer": "ipython3",
   "version": "3.6.8"
  }
 },
 "nbformat": 4,
 "nbformat_minor": 4
}
