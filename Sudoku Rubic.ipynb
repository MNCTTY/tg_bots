{
 "cells": [
  {
   "cell_type": "code",
   "execution_count": 9,
   "metadata": {},
   "outputs": [],
   "source": [
    "a1, a2, a3, a4, a5, a6, a7, a8, r1, r2, r3, r4, r5, r6, r7, r8, r9, r10, r11, r12 = 0, 0, 0, 0, 0, 0, 0, 0, 0, 0, 0, 0, 0, 0, 0, 0, 0, 0, 0, 0"
   ]
  },
  {
   "cell_type": "code",
   "execution_count": 10,
   "metadata": {},
   "outputs": [],
   "source": [
    "u = [a7, r10, a8, r11, 1, r12, a1, r1, a2]\n",
    "a = [a1, r1, a2, r2, 5, r3, a3, r4, a4]\n",
    "b = [a3, r4, a4, r5, 1, r6, a5, r7, a6]\n",
    "c = [a5, r7, a6, r8, 6, r9, a7, r10, a8]\n",
    "d = [a7, r11, a1, r8, 4, r2, a5, r5, a3]\n",
    "e = [a2, r12, a8, r3, 7, r9, a4, r6, a6]"
   ]
  },
  {
   "cell_type": "code",
   "execution_count": 11,
   "metadata": {},
   "outputs": [],
   "source": [
    "angles = [[5, 4, 7], [2, 8, 5], [4, 6, 9], [1, 3, 4], [7, 5, 1], [1, 9, 7], [2, 8, 6], [3, 6, 9]]\n",
    "ribs = [[9, 4], [3, 7], [9, 8], [6, 8], [2, 8], [2, 4], [2, 1], [5, 3], [2, 3], [6, 3], [9, 7], [5, 8]]"
   ]
  },
  {
   "cell_type": "code",
   "execution_count": 12,
   "metadata": {},
   "outputs": [],
   "source": [
    "angles_widened = [[5, 4, 7], [5, 7, 4], [4, 7, 5], [4, 5, 7], [7, 4, 5], [7, 5, 4],\n",
    "                 [2, 8, 5], [2, 5, 8], [5, 8, 2], [5, 2, 8], [8, 2, 5], [8, 5, 2],\n",
    "                 [4, 6, 9], [4, 9, 6], [6, 4, 9], [6, 9, 4], [9, 6, 4], [9, 4, 6],\n",
    "                 [1, 3, 4], [1, 4, 3], [3, 1, 4], [3, 4, 1], [4, 3, 1], [4, 1, 3],\n",
    "                 [7, 5, 1], [7, 1, 5], [1, 5, 7], [1, 7, 5], [5, 7, 1], [5, 1, 7], \n",
    "                 [1, 9, 7], [1, 7, 9], [7, 1, 9], [7, 9, 1], [9, 1, 7], [9, 7, 1],\n",
    "                 [2, 8, 6], [2, 6, 8], [8, 2, 6], [8, 6, 2], [6, 8, 2], [6, 2, 8],\n",
    "                 [3, 6, 9], [3, 9, 6], [9, 6, 3], [9, 3, 6], [6, 3, 9], [6, 9, 3]]"
   ]
  },
  {
   "cell_type": "code",
   "execution_count": 13,
   "metadata": {},
   "outputs": [],
   "source": [
    "ribs_widened = [[9, 4], [4, 9],\n",
    "               [3, 7], [7, 3],\n",
    "               [9, 8], [8, 9],\n",
    "               [6, 8], [8, 6],\n",
    "               [2, 8], [8, 2],\n",
    "               [2, 4], [4, 2],\n",
    "               [2, 1], [1, 2],\n",
    "               [5, 3], [3, 5],\n",
    "               [2, 3], [3, 2],\n",
    "               [6, 3], [3, 6],\n",
    "               [9, 7], [7, 9],\n",
    "               [5, 8], [8, 5]]"
   ]
  },
  {
   "cell_type": "code",
   "execution_count": null,
   "metadata": {},
   "outputs": [],
   "source": []
  }
 ],
 "metadata": {
  "kernelspec": {
   "display_name": "Python 3",
   "language": "python",
   "name": "python3"
  },
  "language_info": {
   "codemirror_mode": {
    "name": "ipython",
    "version": 3
   },
   "file_extension": ".py",
   "mimetype": "text/x-python",
   "name": "python",
   "nbconvert_exporter": "python",
   "pygments_lexer": "ipython3",
   "version": "3.6.8"
  }
 },
 "nbformat": 4,
 "nbformat_minor": 4
}
