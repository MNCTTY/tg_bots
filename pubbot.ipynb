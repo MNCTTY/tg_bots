{
 "cells": [
  {
   "cell_type": "code",
   "execution_count": 30,
   "metadata": {},
   "outputs": [],
   "source": [
    "import telebot\n",
    "from telebot import types\n",
    "bot = telebot.TeleBot('1753533613:AAGvXtAF7M7anf88LLFg5pYhkCw3HUnGf4E');"
   ]
  },
  {
   "cell_type": "markdown",
   "metadata": {},
   "source": [
    "https://api.telegram.org/bot1753533613:AAGvXtAF7M7anf88LLFg5pYhkCw3HUnGf4E/getUpdates"
   ]
  },
  {
   "cell_type": "code",
   "execution_count": 31,
   "metadata": {},
   "outputs": [],
   "source": [
    "channel = -1001102344160\n",
    "mnctty = 196676228"
   ]
  },
  {
   "cell_type": "code",
   "execution_count": 32,
   "metadata": {},
   "outputs": [],
   "source": [
    "msg = 'привет создатель, епта'"
   ]
  },
  {
   "cell_type": "code",
   "execution_count": 33,
   "metadata": {},
   "outputs": [],
   "source": [
    "@bot.message_handler(content_types=['text'])\n",
    "def send_me_msg(msg):\n",
    "    bot.send_message(mnctty, msg)"
   ]
  },
  {
   "cell_type": "code",
   "execution_count": 34,
   "metadata": {},
   "outputs": [],
   "source": [
    "@bot.message_handler(content_types=['text'])\n",
    "def send_channel_msg(msg):\n",
    "    bot.send_message(channel, msg)"
   ]
  },
  {
   "cell_type": "code",
   "execution_count": 36,
   "metadata": {},
   "outputs": [],
   "source": [
    "# send_channel_msg(msg)\n",
    "send_me_msg(msg)"
   ]
  },
  {
   "cell_type": "code",
   "execution_count": null,
   "metadata": {},
   "outputs": [],
   "source": []
  },
  {
   "cell_type": "code",
   "execution_count": 39,
   "metadata": {},
   "outputs": [
    {
     "data": {
      "text/plain": [
       "['Публикация 1\\n',\n",
       " '\\n',\n",
       " 'Публикация 2\\n',\n",
       " '\\n',\n",
       " 'Публикация 3\\n',\n",
       " '\\n',\n",
       " 'Публикация 4\\n',\n",
       " '\\n',\n",
       " 'Публикация 5\\n',\n",
       " '\\n',\n",
       " 'Публикация 6\\n',\n",
       " '\\n',\n",
       " 'Публикация 7\\n',\n",
       " '\\n',\n",
       " 'Публикация 8\\n',\n",
       " '\\n',\n",
       " 'Публикация 9']"
      ]
     },
     "execution_count": 39,
     "metadata": {},
     "output_type": "execute_result"
    }
   ],
   "source": [
    "with open('pubdata/test_archive.in', 'r') as f:\n",
    "    data_arch = f.readlines()\n",
    "data_arch"
   ]
  },
  {
   "cell_type": "code",
   "execution_count": 40,
   "metadata": {},
   "outputs": [],
   "source": [
    "for dat in data_arch:\n",
    "    if dat != '\\n':\n",
    "        send_channel_msg(dat)"
   ]
  },
  {
   "cell_type": "code",
   "execution_count": null,
   "metadata": {},
   "outputs": [],
   "source": []
  },
  {
   "cell_type": "code",
   "execution_count": 41,
   "metadata": {},
   "outputs": [
    {
     "data": {
      "text/plain": [
       "['Публикация в очереди 1\\n',\n",
       " '\\n',\n",
       " 'Публикация в очереди 2\\n',\n",
       " '\\n',\n",
       " 'Публикация в очереди 3\\n',\n",
       " '\\n',\n",
       " 'Публикация в очереди 4\\n',\n",
       " '\\n',\n",
       " 'Публикация в очереди 5\\n',\n",
       " '\\n',\n",
       " 'Публикация в очереди 6\\n',\n",
       " '\\n',\n",
       " 'Публикация в очереди 7\\n',\n",
       " '\\n',\n",
       " 'Публикация в очереди 8\\n',\n",
       " '\\n',\n",
       " 'Публикация в очереди 9']"
      ]
     },
     "execution_count": 41,
     "metadata": {},
     "output_type": "execute_result"
    }
   ],
   "source": [
    "with open('pubdata/test_queue.in', 'r') as f:\n",
    "    data_que = f.readlines()\n",
    "data_que"
   ]
  },
  {
   "cell_type": "code",
   "execution_count": 45,
   "metadata": {},
   "outputs": [
    {
     "ename": "KeyboardInterrupt",
     "evalue": "",
     "output_type": "error",
     "traceback": [
      "\u001b[0;31m---------------------------------------------------------------------------\u001b[0m",
      "\u001b[0;31mKeyboardInterrupt\u001b[0m                         Traceback (most recent call last)",
      "\u001b[0;32m<ipython-input-45-c1a887b09f5e>\u001b[0m in \u001b[0;36m<module>\u001b[0;34m\u001b[0m\n\u001b[1;32m      4\u001b[0m     \u001b[0;32mif\u001b[0m \u001b[0mdat\u001b[0m \u001b[0;34m!=\u001b[0m \u001b[0;34m'\\n'\u001b[0m\u001b[0;34m:\u001b[0m\u001b[0;34m\u001b[0m\u001b[0;34m\u001b[0m\u001b[0m\n\u001b[1;32m      5\u001b[0m         \u001b[0msend_channel_msg\u001b[0m\u001b[0;34m(\u001b[0m\u001b[0mdat\u001b[0m\u001b[0;34m)\u001b[0m\u001b[0;34m\u001b[0m\u001b[0;34m\u001b[0m\u001b[0m\n\u001b[0;32m----> 6\u001b[0;31m         \u001b[0msleep\u001b[0m\u001b[0;34m(\u001b[0m\u001b[0mperiod\u001b[0m\u001b[0;34m)\u001b[0m\u001b[0;34m\u001b[0m\u001b[0;34m\u001b[0m\u001b[0m\n\u001b[0m\u001b[1;32m      7\u001b[0m         \u001b[0mprint\u001b[0m\u001b[0;34m(\u001b[0m\u001b[0;34m'now'\u001b[0m\u001b[0;34m)\u001b[0m\u001b[0;34m\u001b[0m\u001b[0;34m\u001b[0m\u001b[0m\n",
      "\u001b[0;31mKeyboardInterrupt\u001b[0m: "
     ]
    }
   ],
   "source": [
    "from time import sleep\n",
    "period = 10 #ms\n",
    "for dat in data_que:\n",
    "    if dat != '\\n':\n",
    "        send_channel_msg(dat)\n",
    "        sleep(period)\n",
    "        print('now')"
   ]
  },
  {
   "cell_type": "code",
   "execution_count": null,
   "metadata": {},
   "outputs": [],
   "source": []
  }
 ],
 "metadata": {
  "kernelspec": {
   "display_name": "Python 3",
   "language": "python",
   "name": "python3"
  },
  "language_info": {
   "codemirror_mode": {
    "name": "ipython",
    "version": 3
   },
   "file_extension": ".py",
   "mimetype": "text/x-python",
   "name": "python",
   "nbconvert_exporter": "python",
   "pygments_lexer": "ipython3",
   "version": "3.6.8"
  }
 },
 "nbformat": 4,
 "nbformat_minor": 4
}
