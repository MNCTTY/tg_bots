{
 "cells": [
  {
   "cell_type": "code",
   "execution_count": 6,
   "metadata": {},
   "outputs": [],
   "source": [
    "import telebot\n",
    "from telebot import types\n",
    "bot = telebot.TeleBot('1733480218:AAHLaxWnqULj3pk3gGyUYinyrwE8UsZ0vUk')"
   ]
  },
  {
   "cell_type": "code",
   "execution_count": 2,
   "metadata": {},
   "outputs": [
    {
     "ename": "FileNotFoundError",
     "evalue": "[Errno 2] No such file or directory: 'configs/forecast.ini'",
     "output_type": "error",
     "traceback": [
      "\u001b[0;31m---------------------------------------------------------------------------\u001b[0m",
      "\u001b[0;31mFileNotFoundError\u001b[0m                         Traceback (most recent call last)",
      "\u001b[0;32m<ipython-input-2-a8d1d9e230da>\u001b[0m in \u001b[0;36m<module>\u001b[0;34m\u001b[0m\n\u001b[1;32m      1\u001b[0m \u001b[0mpath\u001b[0m \u001b[0;34m=\u001b[0m \u001b[0;34m'configs/forecast.ini'\u001b[0m\u001b[0;34m\u001b[0m\u001b[0;34m\u001b[0m\u001b[0m\n\u001b[0;32m----> 2\u001b[0;31m \u001b[0;32mwith\u001b[0m \u001b[0mopen\u001b[0m\u001b[0;34m(\u001b[0m\u001b[0mpath\u001b[0m\u001b[0;34m,\u001b[0m \u001b[0;34m'r'\u001b[0m\u001b[0;34m)\u001b[0m \u001b[0;32mas\u001b[0m \u001b[0mf\u001b[0m\u001b[0;34m:\u001b[0m\u001b[0;34m\u001b[0m\u001b[0;34m\u001b[0m\u001b[0m\n\u001b[0m\u001b[1;32m      3\u001b[0m     \u001b[0mdata\u001b[0m \u001b[0;34m=\u001b[0m \u001b[0mf\u001b[0m\u001b[0;34m.\u001b[0m\u001b[0mreadlines\u001b[0m\u001b[0;34m(\u001b[0m\u001b[0;34m)\u001b[0m\u001b[0;34m\u001b[0m\u001b[0;34m\u001b[0m\u001b[0m\n",
      "\u001b[0;31mFileNotFoundError\u001b[0m: [Errno 2] No such file or directory: 'configs/forecast.ini'"
     ]
    }
   ],
   "source": [
    "path = 'configs/forecast.ini'\n",
    "with open(path, 'r') as f:\n",
    "    data = f.readlines()"
   ]
  },
  {
   "cell_type": "code",
   "execution_count": 7,
   "metadata": {},
   "outputs": [],
   "source": [
    "@bot.message_handler(content_types=['text'])\n",
    "def get_text_messages(message):\n",
    "    if message.text.lower() == 'привет':\n",
    "        bot.send_message(message.from_user.id, 'Hello! Now I tell you your astro forecast for today!')\n",
    "        \n",
    "        # Готовим кнопки\n",
    "        keyboard = types.InlineKeyboardMarkup()\n",
    "        \n",
    "        key_ari = types.InlineKeyboardButton(text='Aries', callback_data='ari')\n",
    "        keyboard.add(key_ari)\n",
    "        key_tau = types.InlineKeyboardButton(text='Taurus', callback_data='tau')\n",
    "        keyboard.add(key_tau)\n",
    "        key_gem = types.InlineKeyboardButton(text='Gemini', callback_data='gem')\n",
    "        keyboard.add(key_gem)\n",
    "        key_can = types.InlineKeyboardButton(text='Cancer', callback_data='can')\n",
    "        keyboard.add(key_can)\n",
    "        key_leo = types.InlineKeyboardButton(text='Leo', callback_data='leo')\n",
    "        keyboard.add(key_leo)\n",
    "        key_vir = types.InlineKeyboardButton(text='Virgo', callback_data='vir')\n",
    "        keyboard.add(key_vir)\n",
    "        key_lib = types.InlineKeyboardButton(text='Libra', callback_data='lib')\n",
    "        keyboard.add(key_lib)\n",
    "        key_sco = types.InlineKeyboardButton(text='Scorpio', callback_data='sco')\n",
    "        keyboard.add(key_sco)\n",
    "        key_sag = types.InlineKeyboardButton(text='Sagittarius', callback_data='sag')\n",
    "        keyboard.add(key_sag)\n",
    "        key_cap = types.InlineKeyboardButton(text='Capricorn', callback_data='cap')\n",
    "        keyboard.add(key_cap)\n",
    "        key_aqu = types.InlineKeyboardButton(text='Aquarius', callback_data='aqu')\n",
    "        keyboard.add(key_aqu)\n",
    "        key_pis = types.InlineKeyboardButton(text='Pisces', callback_data='pis')\n",
    "        \n",
    "        bot.send_message(message.from_user.id, text='Choose your sign', reply_markup=keyboard)\n",
    "\n",
    "    elif message.text == '/help':\n",
    "        bot.send_message(message.from_user.id, 'Write привет')\n",
    "    else:\n",
    "        bot.send_message(message.from_user.id, 'Type /help for help')\n",
    "    \n",
    "        "
   ]
  },
  {
   "cell_type": "code",
   "execution_count": null,
   "metadata": {},
   "outputs": [],
   "source": []
  },
  {
   "cell_type": "code",
   "execution_count": null,
   "metadata": {},
   "outputs": [],
   "source": []
  },
  {
   "cell_type": "code",
   "execution_count": 47,
   "metadata": {},
   "outputs": [
    {
     "data": {
      "text/plain": [
       "'Идите в пизду, и будет вам счастье\\n'"
      ]
     },
     "execution_count": 47,
     "metadata": {},
     "output_type": "execute_result"
    }
   ],
   "source": [
    "data[7]"
   ]
  },
  {
   "cell_type": "code",
   "execution_count": null,
   "metadata": {},
   "outputs": [],
   "source": []
  },
  {
   "cell_type": "code",
   "execution_count": null,
   "metadata": {},
   "outputs": [],
   "source": []
  },
  {
   "cell_type": "code",
   "execution_count": 4,
   "metadata": {},
   "outputs": [],
   "source": [
    "# Обработчик нажатий на кнопки\n",
    "@bot.callback_query_handler(func=lambda call: True)\n",
    "def callback_worker(call):\n",
    "\n",
    "    if call.data == 'ari': \n",
    "        msg = 'You have a good day! ' + data[1]\n",
    "        bot.send_message(call.message.chat.id, msg)\n",
    "    elif call.data == 'tau':\n",
    "        msg = 'You have a good day! ' + data[4]\n",
    "        bot.send_message(call.message.chat.id, msg)\n",
    "    elif call.data == 'gem':\n",
    "        msg = 'You have a good day! ' + data[7]\n",
    "        bot.send_message(call.message.chat.id, msg)\n",
    "    elif call.data == 'can':\n",
    "        msg = 'You have a good day! ' + data[10]\n",
    "        bot.send_message(call.message.chat.id, msg)\n",
    "    elif call.data == 'leo':\n",
    "        msg = 'You have a good day! ' + data[13]\n",
    "        bot.send_message(call.message.chat.id, msg)\n",
    "    elif call.data == 'vir':\n",
    "        msg = 'You have a good day! ' + data[16]\n",
    "        bot.send_message(call.message.chat.id, msg)\n",
    "    elif call.data == 'lib':\n",
    "        msg = 'You have a good day! ' + data[19]\n",
    "        bot.send_message(call.message.chat.id, msg)\n",
    "    elif call.data == 'sco':\n",
    "        msg = 'You have a good day! ' + data[22]\n",
    "        bot.send_message(call.message.chat.id, msg)\n",
    "    elif call.data == 'sag':\n",
    "        msg = 'You have a good day! ' + data[25]\n",
    "        bot.send_message(call.message.chat.id, msg)\n",
    "    elif call.data == 'cap':\n",
    "        msg = 'You have a good day! ' + data[28]\n",
    "        bot.send_message(call.message.chat.id, msg)\n",
    "    elif call.data == 'aqu':\n",
    "        msg = 'You have a good day! ' + data[31]\n",
    "        bot.send_message(call.message.chat.id, msg)\n",
    "    elif call.data == 'pis':\n",
    "        msg = 'You have a good day! ' + data[34]\n",
    "        bot.send_message(call.message.chat.id, msg)\n"
   ]
  },
  {
   "cell_type": "code",
   "execution_count": null,
   "metadata": {},
   "outputs": [],
   "source": [
    "bot.polling(none_stop=True, interval=0)"
   ]
  },
  {
   "cell_type": "code",
   "execution_count": null,
   "metadata": {},
   "outputs": [],
   "source": []
  },
  {
   "cell_type": "code",
   "execution_count": null,
   "metadata": {},
   "outputs": [],
   "source": []
  }
 ],
 "metadata": {
  "kernelspec": {
   "display_name": "Python 3",
   "language": "python",
   "name": "python3"
  },
  "language_info": {
   "codemirror_mode": {
    "name": "ipython",
    "version": 3
   },
   "file_extension": ".py",
   "mimetype": "text/x-python",
   "name": "python",
   "nbconvert_exporter": "python",
   "pygments_lexer": "ipython3",
   "version": "3.6.8"
  }
 },
 "nbformat": 4,
 "nbformat_minor": 4
}
