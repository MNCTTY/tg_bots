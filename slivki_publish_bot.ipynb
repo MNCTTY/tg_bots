{
 "cells": [
  {
   "cell_type": "code",
   "execution_count": 17,
   "metadata": {},
   "outputs": [],
   "source": [
    "import telebot\n",
    "from telebot import types\n",
    "bot = telebot.TeleBot('1753533613:AAGvXtAF7M7anf88LLFg5pYhkCw3HUnGf4E');"
   ]
  },
  {
   "cell_type": "code",
   "execution_count": 18,
   "metadata": {},
   "outputs": [],
   "source": [
    "@bot.message_handler(content_types=['text'])\n",
    "def get_text_messages(message):\n",
    "    if message.text == \"привет\":\n",
    "        bot.send_message(message.from_user.id, \"Привет, сейчас я расскажу тебе гороскоп на сегодня.\")\n",
    "        # Готовим кнопки\n",
    "        keyboard = types.InlineKeyboardMarkup()\n",
    "        \n",
    "        key_oven = types.InlineKeyboardButton(text='Овен', callback_data='zodiac')\n",
    "        keyboard.add(key_oven)\n",
    "        \n",
    "    # Показываем все кнопки сразу и пишем сообщение о выборе\n",
    "        bot.send_message(message.from_user.id, text='Выбери свой знак зодиака', reply_markup=keyboard)\n",
    "\n",
    "    elif message.text == \"/help\":\n",
    "        bot.send_message(message.from_user.id, \"Напиши привет\")\n",
    "    else:\n",
    "        bot.send_message(message.from_user.id, \"Я тебя не понимаю. Напиши /help.\")"
   ]
  },
  {
   "cell_type": "code",
   "execution_count": 19,
   "metadata": {},
   "outputs": [],
   "source": [
    "# Обработчик нажатий на кнопки\n",
    "@bot.callback_query_handler(func=lambda call: True)\n",
    "def callback_worker(call):\n",
    "  # Если нажали на одну из 12 кнопок — выводим гороскоп\n",
    "  if call.data == \"zodiac\": \n",
    "    # Формируем гороскоп\n",
    "    msg = random.choice(first) + ' ' + random.choice(second) + ' ' + random.choice(second_add) + ' ' + random.choice(third)\n",
    "    # Отправляем текст в Телеграм\n",
    "    bot.send_message(call.message.chat.id, msg)"
   ]
  },
  {
   "cell_type": "code",
   "execution_count": 20,
   "metadata": {},
   "outputs": [],
   "source": [
    "bot.polling(none_stop=True, interval=0)\n"
   ]
  },
  {
   "cell_type": "code",
   "execution_count": null,
   "metadata": {},
   "outputs": [],
   "source": []
  }
 ],
 "metadata": {
  "kernelspec": {
   "display_name": "Python 3",
   "language": "python",
   "name": "python3"
  },
  "language_info": {
   "codemirror_mode": {
    "name": "ipython",
    "version": 3
   },
   "file_extension": ".py",
   "mimetype": "text/x-python",
   "name": "python",
   "nbconvert_exporter": "python",
   "pygments_lexer": "ipython3",
   "version": "3.6.8"
  }
 },
 "nbformat": 4,
 "nbformat_minor": 4
}
