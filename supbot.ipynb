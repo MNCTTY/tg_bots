{
 "cells": [
  {
   "cell_type": "markdown",
   "metadata": {},
   "source": [
    "https://api.telegram.org/bot1659225196:AAG1x4TPMx29kZvk5SHTKlnamsCgOoBTuL0/getUpdates"
   ]
  },
  {
   "cell_type": "code",
   "execution_count": 7,
   "metadata": {},
   "outputs": [],
   "source": [
    "token = '1659225196:AAG1x4TPMx29kZvk5SHTKlnamsCgOoBTuL0'\n",
    "\n",
    "channel = -1001102344160\n",
    "support_chat = 1659225196\n",
    "mnctty = 196676228\n",
    "july = 173074982\n",
    "\n",
    "test_msg = 'привет создатель, епта'"
   ]
  },
  {
   "cell_type": "code",
   "execution_count": null,
   "metadata": {},
   "outputs": [],
   "source": [
    "WELCOME_MESSAGE = 'привет!'\n",
    "HELP_MESSAGE = 'теперь наш канал по адресу t.me/eternalwanderlust'"
   ]
  },
  {
   "cell_type": "code",
   "execution_count": 2,
   "metadata": {},
   "outputs": [],
   "source": [
    "from telegram.ext import Updater\n",
    "from telegram.ext import CommandHandler, MessageHandler, Filters"
   ]
  },
  {
   "cell_type": "code",
   "execution_count": 3,
   "metadata": {},
   "outputs": [],
   "source": [
    "updater = Updater(token)"
   ]
  },
  {
   "cell_type": "code",
   "execution_count": 4,
   "metadata": {},
   "outputs": [],
   "source": [
    "dp = updater.dispatcher"
   ]
  },
  {
   "cell_type": "code",
   "execution_count": 6,
   "metadata": {},
   "outputs": [],
   "source": [
    "def setup_dispatcher(dp):\n",
    "    dp.add_handler(CommandHandler('start', start))\n",
    "    dp.add_handler(CommandHandler('help', help_))\n",
    "    dp.add_handler(MessageHandler(Filters.chat_type.private, forward_to_chat))\n",
    "    dp.add_handler(MessageHandler(Filters.chat(TELEGRAM_SUPPORT_CHAT_ID) & Filters.reply, forward_to_user))\n",
    "    return dp"
   ]
  },
  {
   "cell_type": "code",
   "execution_count": null,
   "metadata": {},
   "outputs": [],
   "source": [
    "def start(update, context):\n",
    "    update.message.reply_text(WELCOME_MESSAGE)\n",
    "\n",
    "    user_info = update.message.from_user.to_dict()\n",
    "\n",
    "    context.bot.send_message(\n",
    "        chat_id=TELEGRAM_SUPPORT_CHAT_ID,\n",
    "        text=f\"? Connected {user_info}.\",\n",
    "    )"
   ]
  },
  {
   "cell_type": "code",
   "execution_count": null,
   "metadata": {},
   "outputs": [],
   "source": [
    "def help_(update, context):\n",
    "    update.message.reply_text(WELCOME_MESSAGE)\n",
    "\n",
    "#     user_info = update.message.from_user.to_dict()\n",
    "\n",
    "#     context.bot.send_message(\n",
    "#         chat_id=TELEGRAM_SUPPORT_CHAT_ID,\n",
    "#         text=f\"? Connected {user_info}.\",\n",
    "#     )"
   ]
  },
  {
   "cell_type": "code",
   "execution_count": null,
   "metadata": {},
   "outputs": [],
   "source": [
    "def forward_to_chat(update, context):\n",
    "    update.message.forward(chat_id=TELEGRAM_SUPPORT_CHAT_ID)"
   ]
  }
 ],
 "metadata": {
  "kernelspec": {
   "display_name": "Python 3",
   "language": "python",
   "name": "python3"
  },
  "language_info": {
   "codemirror_mode": {
    "name": "ipython",
    "version": 3
   },
   "file_extension": ".py",
   "mimetype": "text/x-python",
   "name": "python",
   "nbconvert_exporter": "python",
   "pygments_lexer": "ipython3",
   "version": "3.6.8"
  }
 },
 "nbformat": 4,
 "nbformat_minor": 4
}
